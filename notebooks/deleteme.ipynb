{
 "cells": [
  {
   "cell_type": "code",
   "execution_count": 1,
   "id": "eae8f8a5",
   "metadata": {},
   "outputs": [],
   "source": [
    "%load_ext autoreload\n",
    "%autoreload 2"
   ]
  },
  {
   "cell_type": "code",
   "execution_count": 2,
   "id": "fea559fa",
   "metadata": {},
   "outputs": [],
   "source": [
    "import PySpin\n",
    "import sys"
   ]
  },
  {
   "cell_type": "code",
   "execution_count": 3,
   "id": "cdd9588a",
   "metadata": {},
   "outputs": [],
   "source": [
    "from multicamera_acquisition.interfaces import get_camera"
   ]
  },
  {
   "cell_type": "code",
   "execution_count": 4,
   "id": "854b4cbd",
   "metadata": {},
   "outputs": [],
   "source": [
    "camera_list = [\n",
    "    {'name': 'top', 'serial': 22181547},\n",
    "    #{'name': 'side1', 'serial': 22181612},\n",
    "]"
   ]
  },
  {
   "cell_type": "code",
   "execution_count": 5,
   "id": "8d692280",
   "metadata": {},
   "outputs": [],
   "source": [
    "serial_number = 22181547\n",
    "exposure_time = 2000"
   ]
  },
  {
   "cell_type": "code",
   "execution_count": 6,
   "id": "40d9e70a",
   "metadata": {},
   "outputs": [],
   "source": [
    "cam = get_camera(\n",
    "    brand=\"flir\",\n",
    "    serial_number=serial_number,\n",
    "    exposure_time=exposure_time,\n",
    "    gain=15,\n",
    ")"
   ]
  },
  {
   "cell_type": "code",
   "execution_count": null,
   "id": "a4e6a5e8",
   "metadata": {},
   "outputs": [],
   "source": []
  },
  {
   "cell_type": "code",
   "execution_count": null,
   "id": "2910f09b",
   "metadata": {},
   "outputs": [],
   "source": [
    "\n",
    "\n",
    "cam.start()\n",
    "\n",
    "\n",
    "current_frame = 0\n",
    "data = cam.get_array(timeout=1)\n",
    "if len(data) != 0:\n",
    "    data = data + tuple([current_frame])\n",
    "\n",
    "current_frame += 1\n",
    "\n",
    "self.write_queue.put(tuple())\n",
    "if self.display_frames:\n",
    "    self.display_queue.put(tuple())\n",
    "\n",
    "if cam is not None:\n",
    "    cam.close()\n",
    "\n",
    "del cam"
   ]
  },
  {
   "cell_type": "code",
   "execution_count": null,
   "id": "72efe7c9",
   "metadata": {},
   "outputs": [],
   "source": [
    "cam"
   ]
  },
  {
   "cell_type": "code",
   "execution_count": null,
   "id": "b11b9090",
   "metadata": {},
   "outputs": [],
   "source": [
    "cam.close()"
   ]
  },
  {
   "cell_type": "code",
   "execution_count": null,
   "id": "6f718965",
   "metadata": {},
   "outputs": [],
   "source": []
  }
 ],
 "metadata": {
  "kernelspec": {
   "display_name": "flir_acq",
   "language": "python",
   "name": "flir_acq"
  },
  "language_info": {
   "codemirror_mode": {
    "name": "ipython",
    "version": 3
   },
   "file_extension": ".py",
   "mimetype": "text/x-python",
   "name": "python",
   "nbconvert_exporter": "python",
   "pygments_lexer": "ipython3",
   "version": "3.10.8"
  }
 },
 "nbformat": 4,
 "nbformat_minor": 5
}
