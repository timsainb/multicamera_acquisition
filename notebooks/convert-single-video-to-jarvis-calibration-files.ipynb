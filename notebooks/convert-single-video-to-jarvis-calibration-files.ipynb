{
 "cells": [
  {
   "cell_type": "markdown",
   "id": "e8c5a029",
   "metadata": {},
   "source": [
    "### Convert recording into extrinsic and intrinsic folder\n",
    "- extrinsic\n",
    "    - cam1-cam2\n",
    "        cam1.avi\n",
    "        cam2.avi\n",
    "- intrinsic\n",
    "    - cam1.avi\n",
    "    - cam2.avi"
   ]
  },
  {
   "cell_type": "code",
   "execution_count": 21,
   "id": "71424a46",
   "metadata": {},
   "outputs": [],
   "source": [
    "from multicamera_acquisition.paths import ensure_dir"
   ]
  },
  {
   "cell_type": "code",
   "execution_count": 39,
   "id": "5ed33bea",
   "metadata": {},
   "outputs": [],
   "source": [
    "from pathlib2 import Path\n",
    "import shutil\n",
    "import numpy as np\n",
    "from tqdm.autonotebook import tqdm"
   ]
  },
  {
   "cell_type": "code",
   "execution_count": 23,
   "id": "6f6b0cbe",
   "metadata": {},
   "outputs": [],
   "source": [
    "recording_location = Path(\"/media/dattalab/starling_rec/recordings/23-08-12-test-calibration-from-python/\")"
   ]
  },
  {
   "cell_type": "code",
   "execution_count": 24,
   "id": "f46e468d",
   "metadata": {},
   "outputs": [],
   "source": [
    "datetime = '23-02-08-19-32-21-321147'\n",
    "extension = 'avi'"
   ]
  },
  {
   "cell_type": "code",
   "execution_count": 41,
   "id": "c7e02fdb",
   "metadata": {},
   "outputs": [],
   "source": [
    "extrinsic_output_location = recording_location / datetime / 'extrinsic'\n",
    "intrinsic_output_location = recording_location / datetime / 'intrinsic'"
   ]
  },
  {
   "cell_type": "code",
   "execution_count": 26,
   "id": "619a50a6",
   "metadata": {},
   "outputs": [],
   "source": [
    "videos = list((recording_location/datetime).glob(f'*.{extension}'))"
   ]
  },
  {
   "cell_type": "code",
   "execution_count": 27,
   "id": "64857ce5",
   "metadata": {},
   "outputs": [
    {
     "data": {
      "text/plain": [
       "['Top', 'BackLeft', 'FrontLeft', 'FrontRight', 'BackRight']"
      ]
     },
     "execution_count": 27,
     "metadata": {},
     "output_type": "execute_result"
    }
   ],
   "source": [
    "cameras = [i.stem.split('.')[0] for i in videos]\n",
    "cameras"
   ]
  },
  {
   "cell_type": "code",
   "execution_count": 28,
   "id": "7f546fc5",
   "metadata": {},
   "outputs": [],
   "source": [
    "primary_camera = 'Top'\n",
    "if primary_camera not in cameras:\n",
    "    raise ValueError('{} not in cameras'.format(primary_camera))"
   ]
  },
  {
   "cell_type": "code",
   "execution_count": 43,
   "id": "86105f12",
   "metadata": {},
   "outputs": [],
   "source": [
    "ensure_dir(extrinsic_output_location)\n",
    "ensure_dir(intrinsic_output_location)"
   ]
  },
  {
   "cell_type": "code",
   "execution_count": 38,
   "id": "845e0091",
   "metadata": {},
   "outputs": [],
   "source": [
    "for camera in tqdm(cameras):\n",
    "    if camera == primary_camera:\n",
    "        continue\n",
    "    extrinsic_dir = extrinsic_output_location / \"{}-{}\".format(primary_camera, camera)\n",
    "    # make camera folder\n",
    "    ensure_dir(extrinsic_dir)\n",
    "    primary_video = videos[\n",
    "        np.where(np.array([i.stem.split(\".\")[0] for i in videos]) == primary_camera)[0][\n",
    "            0\n",
    "        ]\n",
    "    ]\n",
    "    # copy primary\n",
    "    shutil.copyfile(\n",
    "        src=primary_video, dst=extrinsic_dir / f\"{primary_camera}.{extension}\"\n",
    "    )\n",
    "    # copy camera\n",
    "    secondary_video = videos[\n",
    "        np.where(np.array([i.stem.split(\".\")[0] for i in videos]) == camera)[0][0]\n",
    "    ]\n",
    "    shutil.copyfile(src=secondary_video, dst=extrinsic_dir / f\"{camera}.{extension}\")"
   ]
  },
  {
   "cell_type": "code",
   "execution_count": 44,
   "id": "7fe4f0c8",
   "metadata": {},
   "outputs": [
    {
     "name": "stderr",
     "output_type": "stream",
     "text": [
      "100%|█████████████████████████████████████████████| 5/5 [00:14<00:00,  2.93s/it]\n"
     ]
    }
   ],
   "source": [
    "# copy intrinsic\n",
    "for camera in tqdm(cameras):\n",
    "    \n",
    "    # copy camera\n",
    "    secondary_video = videos[\n",
    "        np.where(np.array([i.stem.split(\".\")[0] for i in videos]) == camera)[0][0]\n",
    "    ]\n",
    "    shutil.copyfile(src=secondary_video, dst=intrinsic_output_location / f\"{camera}.{extension}\")"
   ]
  },
  {
   "cell_type": "code",
   "execution_count": 13,
   "id": "da8e6462",
   "metadata": {},
   "outputs": [
    {
     "name": "stdout",
     "output_type": "stream",
     "text": [
      "BackLeft.22181546.avi\t\t FrontLeft.22181612.metadata.csv\r\n",
      "BackLeft.22181546.metadata.csv\t FrontRight.22181541.avi\r\n",
      "BackRight.22181539.avi\t\t FrontRight.22181541.metadata.csv\r\n",
      "BackRight.22181539.metadata.csv  Top.22181547.avi\r\n",
      "extrinsic\t\t\t Top.22181547.metadata.csv\r\n",
      "FrontLeft.22181612.avi\t\t triggerdata.csv\r\n"
     ]
    }
   ],
   "source": [
    "! ls /media/dattalab/starling_rec/recordings/23-08-12-test-calibration-from-python/23-02-08-19-32-21-321147"
   ]
  },
  {
   "cell_type": "code",
   "execution_count": 32,
   "id": "7eccc712",
   "metadata": {},
   "outputs": [
    {
     "data": {
      "text/plain": [
       "['Top', 'BackLeft', 'FrontLeft', 'FrontRight', 'BackRight']"
      ]
     },
     "execution_count": 32,
     "metadata": {},
     "output_type": "execute_result"
    }
   ],
   "source": [
    "[i.stem.split('.')[0] for i in videos]"
   ]
  },
  {
   "cell_type": "code",
   "execution_count": 37,
   "id": "a0429b21",
   "metadata": {},
   "outputs": [
    {
     "ename": "SyntaxError",
     "evalue": "incomplete input (4120171327.py, line 1)",
     "output_type": "error",
     "traceback": [
      "\u001b[0;36m  Cell \u001b[0;32mIn[37], line 1\u001b[0;36m\u001b[0m\n\u001b[0;31m    np.array(np.where([i.stem.split('.')[0] for i in videos])\u001b[0m\n\u001b[0m                                                             ^\u001b[0m\n\u001b[0;31mSyntaxError\u001b[0m\u001b[0;31m:\u001b[0m incomplete input\n"
     ]
    }
   ],
   "source": [
    "np.array(np.where([i.stem.split('.')[0] for i in videos]))"
   ]
  },
  {
   "cell_type": "code",
   "execution_count": null,
   "id": "d73a76e4",
   "metadata": {},
   "outputs": [],
   "source": []
  }
 ],
 "metadata": {
  "kernelspec": {
   "display_name": "flir_acq",
   "language": "python",
   "name": "flir_acq"
  },
  "language_info": {
   "codemirror_mode": {
    "name": "ipython",
    "version": 3
   },
   "file_extension": ".py",
   "mimetype": "text/x-python",
   "name": "python",
   "nbconvert_exporter": "python",
   "pygments_lexer": "ipython3",
   "version": "3.10.8"
  }
 },
 "nbformat": 4,
 "nbformat_minor": 5
}
