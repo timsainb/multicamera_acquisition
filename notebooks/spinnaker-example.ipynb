{
 "cells": [
  {
   "cell_type": "code",
   "execution_count": 1,
   "id": "eae8f8a5",
   "metadata": {},
   "outputs": [],
   "source": [
    "%load_ext autoreload\n",
    "%autoreload 2"
   ]
  },
  {
   "cell_type": "code",
   "execution_count": 2,
   "id": "4a498333",
   "metadata": {
    "scrolled": false
   },
   "outputs": [
    {
     "name": "stderr",
     "output_type": "stream",
     "text": [
      "/home/dattalab/code/multicamera_acquisition/multicamera_acquisition/interfaces/arduino.py:4: TqdmExperimentalWarning: Using `tqdm.autonotebook.tqdm` in notebook mode. Use `tqdm.tqdm` instead to force console mode (e.g. in jupyter console)\n",
      "  from tqdm.autonotebook import tqdm\n"
     ]
    }
   ],
   "source": [
    "from multicamera_acquisition.paths import DATA_DIR\n",
    "from multicamera_acquisition.acquisition import acquire_video"
   ]
  },
  {
   "cell_type": "code",
   "execution_count": 3,
   "id": "eb169038",
   "metadata": {},
   "outputs": [],
   "source": [
    "import logging\n",
    "import sys\n",
    "logging.basicConfig(stream=sys.stdout, level=logging.DEBUG)"
   ]
  },
  {
   "cell_type": "code",
   "execution_count": 4,
   "id": "00e56b61",
   "metadata": {},
   "outputs": [],
   "source": [
    "save_location = DATA_DIR / 'tests'"
   ]
  },
  {
   "cell_type": "code",
   "execution_count": 5,
   "id": "c9959071",
   "metadata": {},
   "outputs": [],
   "source": [
    "camera_list = [\n",
    "    {'name': 'BackLeft', 'serial': 22181546, 'brand':'flir', 'gain': 12, \"display\":True},\n",
    "    {'name': 'BackRight', 'serial': 22181539, 'brand':'flir', 'gain': 12, \"display\":True},\n",
    "    {'name': 'FrontRight', 'serial': 22181541, 'brand':'flir', 'gain': 12, \"display\":True},\n",
    "    {'name': 'FrontLeft', 'serial': 22181612, 'brand':'flir', 'gain': 12, \"display\":True},\n",
    "    #{'name': 'Bottom', 'serial': 22181550, 'brand':'flir', 'gain': 12, \"display\":True},\n",
    "    {'name': 'Top', 'serial': 22181547, 'brand':'flir', 'gain': 12, \"display\":True},\n",
    "]"
   ]
  },
  {
   "cell_type": "code",
   "execution_count": 6,
   "id": "d8d71f3d",
   "metadata": {
    "scrolled": false
   },
   "outputs": [
    {
     "name": "stdout",
     "output_type": "stream",
     "text": [
      "INFO:root:Checking cameras...\n",
      "INFO:root:Initializing cameras...\n",
      "INFO:root:Camera BackLeft...\n",
      "INFO:root:Initialized BackLeft (22181546)\n",
      "INFO:root:Camera BackRight...\n",
      "INFO:root:Initialized BackRight (22181539)\n",
      "INFO:root:Camera FrontRight...\n",
      "INFO:root:Initialized FrontRight (22181541)\n",
      "INFO:root:Camera FrontLeft...\n",
      "INFO:root:Initialized FrontLeft (22181612)\n",
      "INFO:root:Camera Bottom...\n",
      "INFO:root:Initialized Bottom (22181550)\n",
      "INFO:root:Camera Top...\n",
      "INFO:root:Initialized Top (22181547)\n",
      "INFO:root:Preparing acquisition loops\n",
      "INFO:root:Initializing Arduino...\n",
      "INFO:root:BackLeft: Timeout occurred \n",
      "INFO:root:BackRight: Timeout occurred \n",
      "INFO:root:FrontRight: Timeout occurred \n",
      "INFO:root:FrontLeft: Timeout occurred \n",
      "INFO:root:Bottom: Timeout occurred \n",
      "INFO:root:Top: Timeout occurred \n",
      "INFO:root:BackLeft: Timeout occurred \n",
      "INFO:root:BackRight: Timeout occurred \n",
      "INFO:root:FrontRight: Timeout occurred \n"
     ]
    },
    {
     "name": "stderr",
     "output_type": "stream",
     "text": [
      "/home/dattalab/code/multicamera_acquisition/multicamera_acquisition/acquisition.py:105: UserWarning: Dropped 0 frame on #22181546: \n",
      "SpinnakerException\n",
      "  warnings.warn(\n",
      "/home/dattalab/code/multicamera_acquisition/multicamera_acquisition/acquisition.py:105: UserWarning: Dropped 0 frame on #22181539: \n",
      "SpinnakerException\n",
      "  warnings.warn(\n",
      "/home/dattalab/code/multicamera_acquisition/multicamera_acquisition/acquisition.py:105: UserWarning: Dropped 0 frame on #22181541: \n",
      "SpinnakerException\n",
      "  warnings.warn(\n",
      "/home/dattalab/code/multicamera_acquisition/multicamera_acquisition/acquisition.py:105: UserWarning: Dropped 0 frame on #22181612: \n",
      "SpinnakerException\n",
      "  warnings.warn(\n",
      "/home/dattalab/code/multicamera_acquisition/multicamera_acquisition/acquisition.py:105: UserWarning: Dropped 0 frame on #22181550: \n",
      "SpinnakerException\n",
      "  warnings.warn(\n",
      "/home/dattalab/code/multicamera_acquisition/multicamera_acquisition/acquisition.py:105: UserWarning: Dropped 0 frame on #22181547: \n",
      "SpinnakerException\n",
      "  warnings.warn(\n"
     ]
    },
    {
     "name": "stdout",
     "output_type": "stream",
     "text": [
      "INFO:root:Starting Acquisition...\n",
      "Confirmation recieved: Start\n"
     ]
    },
    {
     "name": "stderr",
     "output_type": "stream",
     "text": [
      "recording progress (s):  32%|██████             | 19/60 [00:19<00:41,  1.00s/it]"
     ]
    },
    {
     "name": "stdout",
     "output_type": "stream",
     "text": [
      "input: 1,0,0,0,582,19479\n",
      "input: 1,0,0,0,582,19479\n"
     ]
    },
    {
     "name": "stderr",
     "output_type": "stream",
     "text": [
      "recording progress (s):  45%|████████▌          | 27/60 [00:27<00:33,  1.01s/it]"
     ]
    },
    {
     "name": "stdout",
     "output_type": "stream",
     "text": [
      "input: 0,1,0,0,823,27513\n",
      "input: 0,1,0,0,823,27513\n"
     ]
    },
    {
     "name": "stderr",
     "output_type": "stream",
     "text": [
      "recording progress (s):  58%|███████████        | 35/60 [00:35<00:25,  1.01s/it]"
     ]
    },
    {
     "name": "stdout",
     "output_type": "stream",
     "text": [
      "input: 0,0,1,0,1063,35515\n",
      "input: 0,0,1,0,1063,35515\n"
     ]
    },
    {
     "name": "stderr",
     "output_type": "stream",
     "text": [
      "recording progress (s):  72%|█████████████▌     | 43/60 [00:43<00:17,  1.03s/it]"
     ]
    },
    {
     "name": "stdout",
     "output_type": "stream",
     "text": [
      "input: 0,0,0,1,1304,43548\n",
      "input: 0,0,0,1,1304,43548\n"
     ]
    },
    {
     "name": "stderr",
     "output_type": "stream",
     "text": [
      "recording progress (s):  83%|███████████████▊   | 50/60 [00:50<00:10,  1.01s/it]"
     ]
    },
    {
     "name": "stdout",
     "output_type": "stream",
     "text": [
      "input: 1,0,0,0,1545,51582\n",
      "input: 1,0,0,0,1545,51582\n"
     ]
    },
    {
     "name": "stderr",
     "output_type": "stream",
     "text": [
      "recording progress (s):  97%|██████████████████▎| 58/60 [00:58<00:02,  1.01s/it]"
     ]
    },
    {
     "name": "stdout",
     "output_type": "stream",
     "text": [
      "input: 0,1,0,0,1785,59584\n",
      "input: 0,1,0,0,1785,59584\n"
     ]
    },
    {
     "name": "stderr",
     "output_type": "stream",
     "text": [
      "recording progress (s):  98%|██████████████████▋| 59/60 [00:59<00:01,  1.02s/it]"
     ]
    },
    {
     "name": "stdout",
     "output_type": "stream",
     "text": [
      "Finished\n",
      "Finished\n",
      "End Acquisition\n",
      "INFO:root:Closing\n"
     ]
    },
    {
     "name": "stderr",
     "output_type": "stream",
     "text": [
      "\n"
     ]
    },
    {
     "name": "stdout",
     "output_type": "stream",
     "text": [
      "INFO:root:FrontLeft: Timeout occurred \n",
      "INFO:root:Bottom: Timeout occurred \n",
      "INFO:root:Top: Timeout occurred \n",
      "INFO:root:BackLeft: Timeout occurred \n",
      "INFO:root:BackRight: Timeout occurred \n",
      "INFO:root:FrontRight: Timeout occurred \n",
      "INFO:root:FrontLeft: Timeout occurred \n",
      "INFO:root:Bottom: Timeout occurred \n",
      "INFO:root:Top: Timeout occurred \n"
     ]
    },
    {
     "name": "stderr",
     "output_type": "stream",
     "text": [
      "/home/dattalab/code/multicamera_acquisition/multicamera_acquisition/acquisition.py:105: UserWarning: Dropped 1801 frame on #22181547: \n",
      "SpinnakerException\n",
      "  warnings.warn(\n",
      "/home/dattalab/code/multicamera_acquisition/multicamera_acquisition/acquisition.py:105: UserWarning: Dropped 1801 frame on #22181550: \n",
      "SpinnakerException\n",
      "  warnings.warn(\n",
      "/home/dattalab/code/multicamera_acquisition/multicamera_acquisition/acquisition.py:105: UserWarning: Dropped 1801 frame on #22181612: \n",
      "SpinnakerException\n",
      "  warnings.warn(\n",
      "/home/dattalab/code/multicamera_acquisition/multicamera_acquisition/acquisition.py:105: UserWarning: Dropped 1801 frame on #22181541: \n",
      "SpinnakerException\n",
      "  warnings.warn(\n",
      "/home/dattalab/code/multicamera_acquisition/multicamera_acquisition/acquisition.py:105: UserWarning: Dropped 1801 frame on #22181546: \n",
      "SpinnakerException\n",
      "  warnings.warn(\n",
      "/home/dattalab/code/multicamera_acquisition/multicamera_acquisition/acquisition.py:105: UserWarning: Dropped 1801 frame on #22181539: \n",
      "SpinnakerException\n",
      "  warnings.warn(\n",
      "/home/dattalab/code/multicamera_acquisition/multicamera_acquisition/acquisition.py:105: UserWarning: Dropped 1802 frame on #22181547: \n",
      "SpinnakerException\n",
      "  warnings.warn(\n",
      "/home/dattalab/code/multicamera_acquisition/multicamera_acquisition/acquisition.py:105: UserWarning: Dropped 1802 frame on #22181550: \n",
      "SpinnakerException\n",
      "  warnings.warn(\n",
      "/home/dattalab/code/multicamera_acquisition/multicamera_acquisition/acquisition.py:105: UserWarning: Dropped 1802 frame on #22181612: \n",
      "SpinnakerException\n",
      "  warnings.warn(\n",
      "/home/dattalab/code/multicamera_acquisition/multicamera_acquisition/acquisition.py:105: UserWarning: Dropped 1802 frame on #22181539: \n",
      "SpinnakerException\n",
      "  warnings.warn(\n",
      "/home/dattalab/code/multicamera_acquisition/multicamera_acquisition/acquisition.py:105: UserWarning: Dropped 1802 frame on #22181541: \n",
      "SpinnakerException\n",
      "  warnings.warn(\n",
      "/home/dattalab/code/multicamera_acquisition/multicamera_acquisition/acquisition.py:105: UserWarning: Dropped 1803 frame on #22181550: \n",
      "SpinnakerException\n",
      "  warnings.warn(\n",
      "/home/dattalab/code/multicamera_acquisition/multicamera_acquisition/acquisition.py:105: UserWarning: Dropped 1803 frame on #22181612: \n",
      "SpinnakerException\n",
      "  warnings.warn(\n",
      "/home/dattalab/code/multicamera_acquisition/multicamera_acquisition/acquisition.py:105: UserWarning: Dropped 1803 frame on #22181547: \n",
      "SpinnakerException\n",
      "  warnings.warn(\n",
      "/home/dattalab/code/multicamera_acquisition/multicamera_acquisition/acquisition.py:105: UserWarning: Dropped 1803 frame on #22181539: \n",
      "SpinnakerException\n",
      "  warnings.warn(\n",
      "/home/dattalab/code/multicamera_acquisition/multicamera_acquisition/acquisition.py:105: UserWarning: Dropped 1803 frame on #22181541: \n",
      "SpinnakerException\n",
      "  warnings.warn(\n",
      "/home/dattalab/code/multicamera_acquisition/multicamera_acquisition/acquisition.py:105: UserWarning: Dropped 1804 frame on #22181612: \n",
      "SpinnakerException\n",
      "  warnings.warn(\n",
      "/home/dattalab/code/multicamera_acquisition/multicamera_acquisition/acquisition.py:105: UserWarning: Dropped 1804 frame on #22181547: \n",
      "SpinnakerException\n",
      "  warnings.warn(\n",
      "/home/dattalab/code/multicamera_acquisition/multicamera_acquisition/acquisition.py:105: UserWarning: Dropped 1804 frame on #22181550: \n",
      "SpinnakerException\n",
      "  warnings.warn(\n",
      "/home/dattalab/code/multicamera_acquisition/multicamera_acquisition/acquisition.py:105: UserWarning: Dropped 1804 frame on #22181541: \n",
      "SpinnakerException\n",
      "  warnings.warn(\n",
      "/home/dattalab/code/multicamera_acquisition/multicamera_acquisition/acquisition.py:105: UserWarning: Dropped 1805 frame on #22181612: \n",
      "SpinnakerException\n",
      "  warnings.warn(\n",
      "/home/dattalab/code/multicamera_acquisition/multicamera_acquisition/acquisition.py:105: UserWarning: Dropped 1805 frame on #22181550: \n",
      "SpinnakerException\n",
      "  warnings.warn(\n",
      "/home/dattalab/code/multicamera_acquisition/multicamera_acquisition/acquisition.py:105: UserWarning: Dropped 1805 frame on #22181547: \n",
      "SpinnakerException\n",
      "  warnings.warn(\n",
      "/home/dattalab/code/multicamera_acquisition/multicamera_acquisition/acquisition.py:105: UserWarning: Dropped 1805 frame on #22181541: \n",
      "SpinnakerException\n",
      "  warnings.warn(\n",
      "/home/dattalab/code/multicamera_acquisition/multicamera_acquisition/acquisition.py:105: UserWarning: Dropped 1806 frame on #22181550: \n",
      "SpinnakerException\n",
      "  warnings.warn(\n",
      "/home/dattalab/code/multicamera_acquisition/multicamera_acquisition/acquisition.py:105: UserWarning: Dropped 1806 frame on #22181547: \n",
      "SpinnakerException\n",
      "  warnings.warn(\n",
      "/home/dattalab/code/multicamera_acquisition/multicamera_acquisition/acquisition.py:105: UserWarning: Dropped 1806 frame on #22181612: \n",
      "SpinnakerException\n",
      "  warnings.warn(\n",
      "/home/dattalab/code/multicamera_acquisition/multicamera_acquisition/acquisition.py:105: UserWarning: Dropped 1807 frame on #22181550: \n",
      "SpinnakerException\n",
      "  warnings.warn(\n",
      "/home/dattalab/code/multicamera_acquisition/multicamera_acquisition/acquisition.py:105: UserWarning: Dropped 1807 frame on #22181547: \n",
      "SpinnakerException\n",
      "  warnings.warn(\n",
      "/home/dattalab/code/multicamera_acquisition/multicamera_acquisition/acquisition.py:105: UserWarning: Dropped 1807 frame on #22181612: \n",
      "SpinnakerException\n",
      "  warnings.warn(\n",
      "/home/dattalab/code/multicamera_acquisition/multicamera_acquisition/acquisition.py:105: UserWarning: Dropped 1808 frame on #22181547: \n",
      "SpinnakerException\n",
      "  warnings.warn(\n",
      "/home/dattalab/code/multicamera_acquisition/multicamera_acquisition/acquisition.py:105: UserWarning: Dropped 1808 frame on #22181550: \n",
      "SpinnakerException\n",
      "  warnings.warn(\n",
      "/home/dattalab/code/multicamera_acquisition/multicamera_acquisition/acquisition.py:105: UserWarning: Dropped 1809 frame on #22181550: \n",
      "SpinnakerException\n",
      "  warnings.warn(\n",
      "/home/dattalab/code/multicamera_acquisition/multicamera_acquisition/acquisition.py:105: UserWarning: Dropped 1809 frame on #22181547: \n",
      "SpinnakerException\n",
      "  warnings.warn(\n",
      "/home/dattalab/code/multicamera_acquisition/multicamera_acquisition/acquisition.py:105: UserWarning: Dropped 1810 frame on #22181547: \n",
      "SpinnakerException\n",
      "  warnings.warn(\n",
      "/home/dattalab/code/multicamera_acquisition/multicamera_acquisition/acquisition.py:105: UserWarning: Dropped 1811 frame on #22181547: \n",
      "SpinnakerException\n",
      "  warnings.warn(\n"
     ]
    },
    {
     "name": "stdout",
     "output_type": "stream",
     "text": [
      "Frames (BackLeft): 1800\n",
      "Frames (BackRight): 1800\n",
      "Frames (FrontRight): 1800\n",
      "Frames (FrontLeft): 1800\n",
      "Frames (Bottom): 1800\n",
      "Frames (Top): 1800\n"
     ]
    }
   ],
   "source": [
    "acquire_video(\n",
    "    save_location,\n",
    "    camera_list,\n",
    "    framerate = 30,\n",
    "    exposure_time = 2000,\n",
    "    recording_duration_s = 60,\n",
    "    serial_timeout_duration_s=0.1,\n",
    "    overwrite=False,\n",
    "    append_datetime=True,\n",
    ")"
   ]
  },
  {
   "cell_type": "code",
   "execution_count": null,
   "id": "c772b8ac",
   "metadata": {},
   "outputs": [],
   "source": []
  }
 ],
 "metadata": {
  "kernelspec": {
   "display_name": "flir_acq",
   "language": "python",
   "name": "flir_acq"
  },
  "language_info": {
   "codemirror_mode": {
    "name": "ipython",
    "version": 3
   },
   "file_extension": ".py",
   "mimetype": "text/x-python",
   "name": "python",
   "nbconvert_exporter": "python",
   "pygments_lexer": "ipython3",
   "version": "3.10.8"
  }
 },
 "nbformat": 4,
 "nbformat_minor": 5
}
