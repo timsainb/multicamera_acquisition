{
 "cells": [
  {
   "cell_type": "code",
   "execution_count": 1,
   "id": "eae8f8a5",
   "metadata": {},
   "outputs": [],
   "source": [
    "%load_ext autoreload\n",
    "%autoreload 2"
   ]
  },
  {
   "cell_type": "code",
   "execution_count": 2,
   "id": "4a498333",
   "metadata": {
    "scrolled": false
   },
   "outputs": [
    {
     "name": "stderr",
     "output_type": "stream",
     "text": [
      "/home/dattalab/code/multicamera_acquisition/multicamera_acquisition/interfaces/arduino.py:4: TqdmExperimentalWarning: Using `tqdm.autonotebook.tqdm` in notebook mode. Use `tqdm.tqdm` instead to force console mode (e.g. in jupyter console)\n",
      "  from tqdm.autonotebook import tqdm\n"
     ]
    }
   ],
   "source": [
    "from multicamera_acquisition.paths import DATA_DIR\n",
    "from multicamera_acquisition.acquisition import acquire_video"
   ]
  },
  {
   "cell_type": "code",
   "execution_count": 3,
   "id": "eb169038",
   "metadata": {},
   "outputs": [],
   "source": [
    "import logging\n",
    "import sys\n",
    "logging.basicConfig(stream=sys.stdout, level=logging.DEBUG)"
   ]
  },
  {
   "cell_type": "code",
   "execution_count": 4,
   "id": "00e56b61",
   "metadata": {},
   "outputs": [],
   "source": [
    "save_location = \"/media/dattalab/starling_rec/recordings/23-08-12-test-calibration-from-python/\" #DATA_DIR / 'tests'"
   ]
  },
  {
   "cell_type": "code",
   "execution_count": 5,
   "id": "c9959071",
   "metadata": {},
   "outputs": [],
   "source": [
    "camera_list = [\n",
    "    {'name': 'BackLeft', 'serial': 22181546, 'brand':'flir', 'gain': 12, \"display\":True},\n",
    "    {'name': 'BackRight', 'serial': 22181539, 'brand':'flir', 'gain': 12, \"display\":True},\n",
    "    {'name': 'FrontRight', 'serial': 22181541, 'brand':'flir', 'gain': 12, \"display\":True},\n",
    "    {'name': 'FrontLeft', 'serial': 22181612, 'brand':'flir', 'gain': 12, \"display\":True},\n",
    "    ##{'name': 'Bottom', 'serial': 22181550, 'brand':'flir', 'gain': 12, \"display\":True},\n",
    "    {'name': 'Top', 'serial': 22181547, 'brand':'flir', 'gain': 12, \"display\":True},\n",
    "]"
   ]
  },
  {
   "cell_type": "code",
   "execution_count": 6,
   "id": "d8d71f3d",
   "metadata": {
    "scrolled": true
   },
   "outputs": [
    {
     "name": "stdout",
     "output_type": "stream",
     "text": [
      "INFO:root:Checking cameras...\n",
      "INFO:root:Initializing cameras...\n",
      "INFO:root:Camera BackLeft...\n",
      "INFO:root:Initialized BackLeft (22181546)\n",
      "INFO:root:Camera BackRight...\n",
      "INFO:root:Initialized BackRight (22181539)\n",
      "INFO:root:Camera FrontRight...\n",
      "INFO:root:Initialized FrontRight (22181541)\n",
      "INFO:root:Camera FrontLeft...\n",
      "INFO:root:Initialized FrontLeft (22181612)\n",
      "INFO:root:Camera Top...\n",
      "INFO:root:Initialized Top (22181547)\n",
      "INFO:root:Preparing acquisition loops\n",
      "INFO:root:Initializing Arduino...\n",
      "INFO:root:BackLeft: Timeout occurred \n",
      "INFO:root:BackRight: Timeout occurred \n",
      "INFO:root:FrontRight: Timeout occurred \n",
      "INFO:root:FrontLeft: Timeout occurred \n",
      "INFO:root:Top: Timeout occurred \n",
      "INFO:root:BackLeft: Timeout occurred \n",
      "INFO:root:Starting Acquisition...\n",
      "Confirmation recieved: Start\n"
     ]
    },
    {
     "name": "stderr",
     "output_type": "stream",
     "text": [
      "\r",
      "recording progress (s):   0%|                           | 0/120 [00:00<?, ?it/s]"
     ]
    },
    {
     "name": "stdout",
     "output_type": "stream",
     "text": [
      "INFO:root:BackRight: Timeout occurred \n"
     ]
    },
    {
     "name": "stderr",
     "output_type": "stream",
     "text": [
      "/home/dattalab/code/multicamera_acquisition/multicamera_acquisition/acquisition.py:105: UserWarning: Dropped 1 frame on #22181546: \n",
      "SpinnakerException\n",
      "  warnings.warn(\n",
      "/home/dattalab/code/multicamera_acquisition/multicamera_acquisition/acquisition.py:105: UserWarning: Dropped 1 frame on #22181541: \n",
      "SpinnakerException\n",
      "  warnings.warn(\n",
      "/home/dattalab/code/multicamera_acquisition/multicamera_acquisition/acquisition.py:105: UserWarning: Dropped 1 frame on #22181612: \n",
      "SpinnakerException\n",
      "  warnings.warn(\n",
      "/home/dattalab/code/multicamera_acquisition/multicamera_acquisition/acquisition.py:105: UserWarning: Dropped 1 frame on #22181547: \n",
      "SpinnakerException\n",
      "  warnings.warn(\n",
      "/home/dattalab/code/multicamera_acquisition/multicamera_acquisition/acquisition.py:105: UserWarning: Dropped 1 frame on #22181539: \n",
      "SpinnakerException\n",
      "  warnings.warn(\n"
     ]
    },
    {
     "name": "stdout",
     "output_type": "stream",
     "text": [
      "input: 0,0,1,0,1,111\n",
      "input: 0,0,1,0,1,111\n"
     ]
    },
    {
     "name": "stderr",
     "output_type": "stream",
     "text": [
      "\r",
      "recording progress (s):   1%|▏                  | 1/120 [00:01<02:01,  1.02s/it]"
     ]
    },
    {
     "name": "stdout",
     "output_type": "stream",
     "text": [
      "input: 0,0,0,0,57,1978\n",
      "input: 0,0,0,0,57,1978\n"
     ]
    },
    {
     "name": "stderr",
     "output_type": "stream",
     "text": [
      "recording progress (s):   8%|█▌                | 10/120 [00:10<01:50,  1.01s/it]"
     ]
    },
    {
     "name": "stdout",
     "output_type": "stream",
     "text": [
      "input: 0,0,1,0,309,10379\n",
      "input: 0,0,1,0,309,10379\n",
      "input: 0,0,0,0,310,10413\n",
      "input: 0,0,0,0,310,10413\n",
      "input: 0,0,1,0,312,10479\n",
      "input: 0,0,1,0,312,10479\n"
     ]
    },
    {
     "name": "stderr",
     "output_type": "stream",
     "text": [
      "recording progress (s):  17%|███               | 20/120 [00:20<01:40,  1.00s/it]"
     ]
    },
    {
     "name": "stdout",
     "output_type": "stream",
     "text": [
      "input: 0,0,0,0,614,20547\n",
      "input: 0,0,0,0,614,20547\n"
     ]
    },
    {
     "name": "stderr",
     "output_type": "stream",
     "text": [
      "recording progress (s):  24%|████▎             | 29/120 [00:29<01:31,  1.00s/it]"
     ]
    },
    {
     "name": "stdout",
     "output_type": "stream",
     "text": [
      "input: 0,0,1,0,903,30181\n",
      "input: 0,0,1,0,903,30181\n"
     ]
    },
    {
     "name": "stderr",
     "output_type": "stream",
     "text": [
      "recording progress (s):  33%|██████            | 40/120 [00:40<01:20,  1.00s/it]"
     ]
    },
    {
     "name": "stdout",
     "output_type": "stream",
     "text": [
      "input: 0,0,0,0,1215,40583\n",
      "input: 0,0,0,0,1215,40583\n",
      "input: 0,0,1,0,1216,40615\n",
      "input: 0,0,1,0,1216,40615\n",
      "input: 0,0,0,0,1217,40649\n",
      "input: 0,0,0,0,1217,40649\n"
     ]
    },
    {
     "name": "stderr",
     "output_type": "stream",
     "text": [
      "recording progress (s):  41%|███████▎          | 49/120 [00:49<01:11,  1.00s/it]"
     ]
    },
    {
     "name": "stdout",
     "output_type": "stream",
     "text": [
      "input: 0,0,1,0,1508,50350\n",
      "input: 0,0,1,0,1508,50350\n",
      "input: 0,0,0,0,1510,50416\n",
      "input: 0,0,0,0,1510,50416\n",
      "input: 0,0,1,0,1511,50450\n",
      "input: 0,0,1,0,1511,50450\n"
     ]
    },
    {
     "name": "stderr",
     "output_type": "stream",
     "text": [
      "recording progress (s):  50%|█████████         | 60/120 [01:00<01:00,  1.01s/it]"
     ]
    },
    {
     "name": "stdout",
     "output_type": "stream",
     "text": [
      "input: 0,0,0,0,1821,60784\n",
      "input: 0,0,0,0,1821,60784\n",
      "input: 0,0,1,0,1822,60818\n",
      "input: 0,0,1,0,1822,60818\n",
      "input: 0,0,0,0,1823,60851\n",
      "input: 0,0,0,0,1823,60851\n"
     ]
    },
    {
     "name": "stderr",
     "output_type": "stream",
     "text": [
      "recording progress (s):  57%|██████████▎       | 69/120 [01:09<00:51,  1.01s/it]"
     ]
    },
    {
     "name": "stdout",
     "output_type": "stream",
     "text": [
      "input: 0,0,1,0,2089,69719\n",
      "input: 0,0,1,0,2089,69719\n"
     ]
    },
    {
     "name": "stderr",
     "output_type": "stream",
     "text": [
      "recording progress (s):  66%|███████████▊      | 79/120 [01:19<00:41,  1.00s/it]"
     ]
    },
    {
     "name": "stdout",
     "output_type": "stream",
     "text": [
      "input: 0,0,0,0,2401,80119\n",
      "input: 0,0,0,0,2401,80119\n",
      "input: 0,0,1,0,2402,80153\n",
      "input: 0,0,1,0,2402,80153\n",
      "input: 0,0,0,0,2404,80220\n",
      "input: 0,0,0,0,2404,80220\n"
     ]
    },
    {
     "name": "stderr",
     "output_type": "stream",
     "text": [
      "recording progress (s):  73%|█████████████▏    | 88/120 [01:28<00:32,  1.00s/it]"
     ]
    },
    {
     "name": "stdout",
     "output_type": "stream",
     "text": [
      "input: 0,0,1,0,2692,89821\n",
      "input: 0,0,1,0,2692,89821\n"
     ]
    },
    {
     "name": "stderr",
     "output_type": "stream",
     "text": [
      "recording progress (s):  82%|██████████████▊   | 99/120 [01:39<00:21,  1.00s/it]"
     ]
    },
    {
     "name": "stdout",
     "output_type": "stream",
     "text": [
      "input: 0,0,0,0,3008,100356\n",
      "input: 0,0,0,0,3008,100356\n"
     ]
    },
    {
     "name": "stderr",
     "output_type": "stream",
     "text": [
      "recording progress (s):  91%|███████████████▍ | 109/120 [01:49<00:11,  1.01s/it]"
     ]
    },
    {
     "name": "stdout",
     "output_type": "stream",
     "text": [
      "input: 0,0,1,0,3301,110123\n",
      "input: 0,0,1,0,3301,110123\n"
     ]
    },
    {
     "name": "stderr",
     "output_type": "stream",
     "text": [
      "recording progress (s):  98%|████████████████▋| 118/120 [01:59<00:02,  1.02s/it]"
     ]
    },
    {
     "name": "stdout",
     "output_type": "stream",
     "text": [
      "Finished\n",
      "Finished\n",
      "End Acquisition\n",
      "INFO:root:Closing\n",
      "INFO:root:FrontRight: Timeout occurred \n"
     ]
    },
    {
     "name": "stderr",
     "output_type": "stream",
     "text": [
      "\n"
     ]
    },
    {
     "name": "stdout",
     "output_type": "stream",
     "text": [
      "INFO:root:FrontLeft: Timeout occurred \n",
      "INFO:root:Top: Timeout occurred \n",
      "INFO:root:BackLeft: Timeout occurred \n",
      "INFO:root:BackRight: Timeout occurred \n",
      "INFO:root:FrontRight: Timeout occurred \n",
      "INFO:root:FrontLeft: Timeout occurred \n",
      "INFO:root:Top: Timeout occurred \n",
      "INFO:root:BackLeft: Timeout occurred \n"
     ]
    },
    {
     "name": "stderr",
     "output_type": "stream",
     "text": [
      "/home/dattalab/code/multicamera_acquisition/multicamera_acquisition/acquisition.py:105: UserWarning: Dropped 3602 frame on #22181546: \n",
      "SpinnakerException\n",
      "  warnings.warn(\n",
      "/home/dattalab/code/multicamera_acquisition/multicamera_acquisition/acquisition.py:105: UserWarning: Dropped 3602 frame on #22181612: \n",
      "SpinnakerException\n",
      "  warnings.warn(\n",
      "/home/dattalab/code/multicamera_acquisition/multicamera_acquisition/acquisition.py:105: UserWarning: Dropped 3602 frame on #22181539: \n",
      "SpinnakerException\n",
      "  warnings.warn(\n",
      "/home/dattalab/code/multicamera_acquisition/multicamera_acquisition/acquisition.py:105: UserWarning: Dropped 3602 frame on #22181541: \n",
      "SpinnakerException\n",
      "  warnings.warn(\n",
      "/home/dattalab/code/multicamera_acquisition/multicamera_acquisition/acquisition.py:105: UserWarning: Dropped 3602 frame on #22181547: \n",
      "SpinnakerException\n",
      "  warnings.warn(\n"
     ]
    },
    {
     "name": "stdout",
     "output_type": "stream",
     "text": [
      "INFO:root:BackRight: Timeout occurred \n",
      "INFO:root:FrontRight: Timeout occurred \n",
      "INFO:root:FrontLeft: Timeout occurred \n",
      "INFO:root:Top: Timeout occurred \n"
     ]
    },
    {
     "name": "stderr",
     "output_type": "stream",
     "text": [
      "/home/dattalab/code/multicamera_acquisition/multicamera_acquisition/acquisition.py:105: UserWarning: Dropped 3603 frame on #22181612: \n",
      "SpinnakerException\n",
      "  warnings.warn(\n",
      "/home/dattalab/code/multicamera_acquisition/multicamera_acquisition/acquisition.py:105: UserWarning: Dropped 3603 frame on #22181539: \n",
      "SpinnakerException\n",
      "  warnings.warn(\n",
      "/home/dattalab/code/multicamera_acquisition/multicamera_acquisition/acquisition.py:105: UserWarning: Dropped 3603 frame on #22181547: \n",
      "SpinnakerException\n",
      "  warnings.warn(\n",
      "/home/dattalab/code/multicamera_acquisition/multicamera_acquisition/acquisition.py:105: UserWarning: Dropped 3603 frame on #22181541: \n",
      "SpinnakerException\n",
      "  warnings.warn(\n",
      "/home/dattalab/code/multicamera_acquisition/multicamera_acquisition/acquisition.py:105: UserWarning: Dropped 3604 frame on #22181612: \n",
      "SpinnakerException\n",
      "  warnings.warn(\n",
      "/home/dattalab/code/multicamera_acquisition/multicamera_acquisition/acquisition.py:105: UserWarning: Dropped 3604 frame on #22181547: \n",
      "SpinnakerException\n",
      "  warnings.warn(\n",
      "/home/dattalab/code/multicamera_acquisition/multicamera_acquisition/acquisition.py:105: UserWarning: Dropped 3604 frame on #22181541: \n",
      "SpinnakerException\n",
      "  warnings.warn(\n",
      "/home/dattalab/code/multicamera_acquisition/multicamera_acquisition/acquisition.py:105: UserWarning: Dropped 3605 frame on #22181547: \n",
      "SpinnakerException\n",
      "  warnings.warn(\n",
      "/home/dattalab/code/multicamera_acquisition/multicamera_acquisition/acquisition.py:105: UserWarning: Dropped 3605 frame on #22181612: \n",
      "SpinnakerException\n",
      "  warnings.warn(\n",
      "/home/dattalab/code/multicamera_acquisition/multicamera_acquisition/acquisition.py:105: UserWarning: Dropped 3606 frame on #22181547: \n",
      "SpinnakerException\n",
      "  warnings.warn(\n",
      "/home/dattalab/code/multicamera_acquisition/multicamera_acquisition/acquisition.py:105: UserWarning: Dropped 3607 frame on #22181547: \n",
      "SpinnakerException\n",
      "  warnings.warn(\n"
     ]
    },
    {
     "name": "stdout",
     "output_type": "stream",
     "text": [
      "Frames (BackLeft): 3601\n",
      "Frames (BackRight): 3601\n",
      "Frames (FrontRight): 3601\n",
      "Frames (FrontLeft): 3601\n",
      "Frames (Top): 3601\n"
     ]
    }
   ],
   "source": [
    "acquire_video(\n",
    "    save_location,\n",
    "    camera_list,\n",
    "    framerate = 30,\n",
    "    exposure_time = 2000,\n",
    "    recording_duration_s = 120,\n",
    "    serial_timeout_duration_s=0.1,\n",
    "    overwrite=False,\n",
    "    append_datetime=True,\n",
    ")"
   ]
  },
  {
   "cell_type": "code",
   "execution_count": null,
   "id": "c772b8ac",
   "metadata": {},
   "outputs": [],
   "source": []
  }
 ],
 "metadata": {
  "kernelspec": {
   "display_name": "flir_acq",
   "language": "python",
   "name": "flir_acq"
  },
  "language_info": {
   "codemirror_mode": {
    "name": "ipython",
    "version": 3
   },
   "file_extension": ".py",
   "mimetype": "text/x-python",
   "name": "python",
   "nbconvert_exporter": "python",
   "pygments_lexer": "ipython3",
   "version": "3.10.8"
  }
 },
 "nbformat": 4,
 "nbformat_minor": 5
}
