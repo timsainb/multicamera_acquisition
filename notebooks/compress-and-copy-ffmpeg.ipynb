{
 "cells": [
  {
   "cell_type": "markdown",
   "id": "14fd7d95",
   "metadata": {},
   "source": [
    "### Copy and compress video files"
   ]
  },
  {
   "cell_type": "code",
   "execution_count": 1,
   "id": "f340eee0",
   "metadata": {},
   "outputs": [],
   "source": [
    "from pathlib2 import Path\n",
    "import pathlib2 \n",
    "import os"
   ]
  },
  {
   "cell_type": "code",
   "execution_count": 2,
   "id": "99c326d5",
   "metadata": {},
   "outputs": [],
   "source": [
    "from tqdm import tqdm"
   ]
  },
  {
   "cell_type": "code",
   "execution_count": 3,
   "id": "bf026b15",
   "metadata": {},
   "outputs": [],
   "source": [
    "# settings\n",
    "crf = 15 # 0 = lossless, 51 = worst"
   ]
  },
  {
   "cell_type": "code",
   "execution_count": 4,
   "id": "c2b514df",
   "metadata": {},
   "outputs": [],
   "source": [
    "# mirror flip bottom cameras \n",
    "cameras_to_mirror = []#[\"FB\", \"BB\"]"
   ]
  },
  {
   "cell_type": "code",
   "execution_count": 18,
   "id": "49e08a8a",
   "metadata": {},
   "outputs": [],
   "source": [
    "base_path_local = Path(\"/media/dattalab/starling_rec/recordings/\")\n",
    "base_path_save= Path('/n/groups/datta/tim_sainburg/datasets/3D_keypoints/compressed/') \n",
    "subfolder = '23-08-14-chronic_recordings'"
   ]
  },
  {
   "cell_type": "code",
   "execution_count": 19,
   "id": "ddfa5dfe",
   "metadata": {},
   "outputs": [],
   "source": [
    "# '/home/dattalab/JARVIS/sync_flir_azure_9_27/recordings/Recording_2022-09-27T122406'\n",
    "# folder with recordings\n",
    "video_folder = csv_folder = base_path_local / subfolder\n",
    "# folder to save recordings folder\n",
    "output_folder = base_path_save / subfolder"
   ]
  },
  {
   "cell_type": "code",
   "execution_count": 20,
   "id": "f74a8ad1",
   "metadata": {},
   "outputs": [],
   "source": [
    "if not os.path.exists('/n/groups/datta/tim_sainburg'):\n",
    "    raise ValueError('must mount /n/groups/datta')"
   ]
  },
  {
   "cell_type": "code",
   "execution_count": 21,
   "id": "ac39dd2e",
   "metadata": {},
   "outputs": [],
   "source": [
    "save_folder = output_folder /video_folder.stem"
   ]
  },
  {
   "cell_type": "code",
   "execution_count": 22,
   "id": "a68f6cd6",
   "metadata": {},
   "outputs": [],
   "source": [
    "def ensure_dir(file_path):\n",
    "    \"\"\" create a safely nested folder\n",
    "    \"\"\"\n",
    "    if type(file_path) == str:\n",
    "        if \".\" in os.path.basename(os.path.normpath(file_path)):\n",
    "            directory = os.path.dirname(file_path)\n",
    "        else:\n",
    "            directory = os.path.normpath(file_path)\n",
    "        if not os.path.exists(directory):\n",
    "            try:\n",
    "                os.makedirs(directory)\n",
    "            except FileExistsError as e:\n",
    "                # multiprocessing can cause directory creation problems\n",
    "                print(e)\n",
    "    elif type(file_path) == pathlib2.PosixPath:\n",
    "        # if this is a file\n",
    "        if len(file_path.suffix) > 0:\n",
    "            file_path.parent.mkdir(parents=True, exist_ok=True)\n",
    "        else:\n",
    "            file_path.mkdir(parents=True, exist_ok=True)"
   ]
  },
  {
   "cell_type": "code",
   "execution_count": 23,
   "id": "991f8a9b",
   "metadata": {},
   "outputs": [],
   "source": [
    "ensure_dir(save_folder)"
   ]
  },
  {
   "cell_type": "code",
   "execution_count": 24,
   "id": "1bff607a",
   "metadata": {},
   "outputs": [],
   "source": [
    "videos_to_convert = list(video_folder.glob('**/*.avi'))"
   ]
  },
  {
   "cell_type": "code",
   "execution_count": 25,
   "id": "ee9da204",
   "metadata": {},
   "outputs": [
    {
     "name": "stdout",
     "output_type": "stream",
     "text": [
      "15\n"
     ]
    }
   ],
   "source": [
    "print(len(videos_to_convert))"
   ]
  },
  {
   "cell_type": "code",
   "execution_count": 26,
   "id": "cf102781",
   "metadata": {},
   "outputs": [
    {
     "data": {
      "text/plain": [
       "[PosixPath('/media/dattalab/starling_rec/recordings/23-08-14-chronic_recordings/23-02-15-13-33-48-456374/Top.22181547.avi'),\n",
       " PosixPath('/media/dattalab/starling_rec/recordings/23-08-14-chronic_recordings/23-02-15-13-33-48-456374/BackLeft.22181546.avi'),\n",
       " PosixPath('/media/dattalab/starling_rec/recordings/23-08-14-chronic_recordings/23-02-15-13-33-48-456374/FrontLeft.22181612.avi'),\n",
       " PosixPath('/media/dattalab/starling_rec/recordings/23-08-14-chronic_recordings/23-02-15-13-33-48-456374/FrontRight.22181541.avi'),\n",
       " PosixPath('/media/dattalab/starling_rec/recordings/23-08-14-chronic_recordings/23-02-15-13-33-48-456374/BackRight.22181539.avi'),\n",
       " PosixPath('/media/dattalab/starling_rec/recordings/23-08-14-chronic_recordings/23-02-15-13-03-25-815191/Top.22181547.avi'),\n",
       " PosixPath('/media/dattalab/starling_rec/recordings/23-08-14-chronic_recordings/23-02-15-13-03-25-815191/BackLeft.22181546.avi'),\n",
       " PosixPath('/media/dattalab/starling_rec/recordings/23-08-14-chronic_recordings/23-02-15-13-03-25-815191/FrontLeft.22181612.avi'),\n",
       " PosixPath('/media/dattalab/starling_rec/recordings/23-08-14-chronic_recordings/23-02-15-13-03-25-815191/FrontRight.22181541.avi'),\n",
       " PosixPath('/media/dattalab/starling_rec/recordings/23-08-14-chronic_recordings/23-02-15-13-03-25-815191/BackRight.22181539.avi'),\n",
       " PosixPath('/media/dattalab/starling_rec/recordings/23-08-14-chronic_recordings/calibration/23-02-15-12-07-10-838946/Top.22181547.avi'),\n",
       " PosixPath('/media/dattalab/starling_rec/recordings/23-08-14-chronic_recordings/calibration/23-02-15-12-07-10-838946/BackLeft.22181546.avi'),\n",
       " PosixPath('/media/dattalab/starling_rec/recordings/23-08-14-chronic_recordings/calibration/23-02-15-12-07-10-838946/FrontLeft.22181612.avi'),\n",
       " PosixPath('/media/dattalab/starling_rec/recordings/23-08-14-chronic_recordings/calibration/23-02-15-12-07-10-838946/FrontRight.22181541.avi'),\n",
       " PosixPath('/media/dattalab/starling_rec/recordings/23-08-14-chronic_recordings/calibration/23-02-15-12-07-10-838946/BackRight.22181539.avi')]"
      ]
     },
     "execution_count": 26,
     "metadata": {},
     "output_type": "execute_result"
    }
   ],
   "source": [
    "list(videos_to_convert)"
   ]
  },
  {
   "cell_type": "code",
   "execution_count": 27,
   "id": "a82ab061",
   "metadata": {},
   "outputs": [],
   "source": [
    "import ffmpeg\n",
    "import numpy as np\n",
    "from tqdm.auto import tqdm\n",
    "import subprocess"
   ]
  },
  {
   "cell_type": "code",
   "execution_count": 28,
   "id": "5e0eefa8",
   "metadata": {},
   "outputs": [],
   "source": [
    "#ffmpeg -i FL.avi -c:v libx265 -vtag hvc1 -crf 20 -preset ultrafast FL_compressed-265-2.avi"
   ]
  },
  {
   "cell_type": "code",
   "execution_count": 29,
   "id": "2b41ed50",
   "metadata": {},
   "outputs": [],
   "source": [
    "from IPython.display import clear_output\n",
    "import os\n",
    "import shutil"
   ]
  },
  {
   "cell_type": "code",
   "execution_count": 30,
   "id": "954b228e",
   "metadata": {},
   "outputs": [],
   "source": [
    "delete_local_video = False"
   ]
  },
  {
   "cell_type": "code",
   "execution_count": 31,
   "id": "c596abf9",
   "metadata": {},
   "outputs": [
    {
     "data": {
      "application/vnd.jupyter.widget-view+json": {
       "model_id": "10f43c796ef04497881995d7acf41678",
       "version_major": 2,
       "version_minor": 0
      },
      "text/plain": [
       "  0%|          | 0/3 [00:00<?, ?it/s]"
      ]
     },
     "metadata": {},
     "output_type": "display_data"
    }
   ],
   "source": [
    "# copy all metadata (metadata.csv and triggerdata.csv)\n",
    "metadata_to_copy = list(csv_folder.glob('**/metadata.csv'))\n",
    "triggerdata_to_copy = list(csv_folder.glob('**/triggerdata.csv'))\n",
    "for csv_file in tqdm(metadata_to_copy + triggerdata_to_copy):\n",
    "    # get the name to save for the output folder\n",
    "    number_of_parents_to_base = np.where([i == csv_folder for i in list(csv_file.parents)])[0][0]\n",
    "    sub_folders = csv_file.parts[len(csv_file.parts)-1-number_of_parents_to_base:-1]\n",
    "    csv_out = output_folder\n",
    "    for i in sub_folders:\n",
    "        csv_out = csv_out / i\n",
    "    csv_out = csv_out / csv_file.name\n",
    "    \n",
    "    ensure_dir(csv_out)\n",
    "    \n",
    "    if csv_out.exists():\n",
    "        print('Video already exists, skipping \\n\\t {}'.format('/'.join(video.parts[-3:])))\n",
    "\n",
    "        #if delete_local_video:\n",
    "            #os.remove(csv_file)\n",
    "\n",
    "        continue\n",
    "        \n",
    "    else:\n",
    "        shutil.copyfile(csv_file, csv_out)"
   ]
  },
  {
   "cell_type": "code",
   "execution_count": 32,
   "id": "ac240b16",
   "metadata": {},
   "outputs": [
    {
     "data": {
      "application/vnd.jupyter.widget-view+json": {
       "model_id": "b428e1ac6e1f4121bca6fc658090b1d1",
       "version_major": 2,
       "version_minor": 0
      },
      "text/plain": [
       "  0%|          | 0/15 [00:00<?, ?it/s]"
      ]
     },
     "metadata": {},
     "output_type": "display_data"
    },
    {
     "name": "stdout",
     "output_type": "stream",
     "text": [
      "converting 23-08-14-chronic_recordings/23-02-15-13-33-48-456374/Top.22181547.avi\n"
     ]
    },
    {
     "name": "stderr",
     "output_type": "stream",
     "text": [
      "ffmpeg version 4.4.2-0ubuntu0.22.04.1 Copyright (c) 2000-2021 the FFmpeg developers\n",
      "  built with gcc 11 (Ubuntu 11.2.0-19ubuntu1)\n",
      "  configuration: --prefix=/usr --extra-version=0ubuntu0.22.04.1 --toolchain=hardened --libdir=/usr/lib/x86_64-linux-gnu --incdir=/usr/include/x86_64-linux-gnu --arch=amd64 --enable-gpl --disable-stripping --enable-gnutls --enable-ladspa --enable-libaom --enable-libass --enable-libbluray --enable-libbs2b --enable-libcaca --enable-libcdio --enable-libcodec2 --enable-libdav1d --enable-libflite --enable-libfontconfig --enable-libfreetype --enable-libfribidi --enable-libgme --enable-libgsm --enable-libjack --enable-libmp3lame --enable-libmysofa --enable-libopenjpeg --enable-libopenmpt --enable-libopus --enable-libpulse --enable-librabbitmq --enable-librubberband --enable-libshine --enable-libsnappy --enable-libsoxr --enable-libspeex --enable-libsrt --enable-libssh --enable-libtheora --enable-libtwolame --enable-libvidstab --enable-libvorbis --enable-libvpx --enable-libwebp --enable-libx265 --enable-libxml2 --enable-libxvid --enable-libzimg --enable-libzmq --enable-libzvbi --enable-lv2 --enable-omx --enable-openal --enable-opencl --enable-opengl --enable-sdl2 --enable-pocketsphinx --enable-librsvg --enable-libmfx --enable-libdc1394 --enable-libdrm --enable-libiec61883 --enable-chromaprint --enable-frei0r --enable-libx264 --enable-shared\n",
      "  libavutil      56. 70.100 / 56. 70.100\n",
      "  libavcodec     58.134.100 / 58.134.100\n",
      "  libavformat    58. 76.100 / 58. 76.100\n",
      "  libavdevice    58. 13.100 / 58. 13.100\n",
      "  libavfilter     7.110.100 /  7.110.100\n",
      "  libswscale      5.  9.100 /  5.  9.100\n",
      "  libswresample   3.  9.100 /  3.  9.100\n",
      "  libpostproc    55.  9.100 / 55.  9.100\n",
      "Input #0, avi, from '/media/dattalab/starling_rec/recordings/23-08-14-chronic_recordings/23-02-15-13-33-48-456374/Top.22181547.avi':\n",
      "  Metadata:\n",
      "    software        : Lavf58.76.100\n",
      "  Duration: 00:22:07.03, start: 0.000000, bitrate: 317006 kb/s\n",
      "  Stream #0:0: Video: ffv1 (FFV1 / 0x31564646), gray, 1280x1024, 317002 kb/s, 60 fps, 60 tbr, 60 tbn, 60 tbc\n",
      "Stream mapping:\n",
      "  Stream #0:0 -> #0:0 (ffv1 (native) -> hevc (libx265))\n",
      "Press [q] to stop, [?] for help\n",
      "x265 [info]: HEVC encoder version 3.5+1-f0c1022b6\n",
      "x265 [info]: build info [Linux][GCC 11.2.0][64 bit] 8bit+10bit+12bit\n",
      "x265 [info]: using cpu capabilities: MMX2 SSE2Fast LZCNT SSSE3 SSE4.2 AVX FMA3 BMI2 AVX2\n",
      "x265 [info]: Unknown profile, Level-4.1 (Main tier)\n",
      "x265 [info]: Thread pool created using 24 threads\n",
      "x265 [info]: Slices                              : 1\n",
      "x265 [info]: frame threads / pool features       : 4 / wpp(32 rows)\n",
      "x265 [info]: Coding QT: max CU size, min CU size : 32 / 16\n",
      "x265 [info]: Residual QT: max TU size, max depth : 32 / 1 inter / 1 intra\n",
      "x265 [info]: ME / range / subpel / merge         : dia / 57 / 0 / 2\n",
      "x265 [info]: Lookahead / bframes / badapt        : 5 / 3 / 0\n",
      "x265 [info]: b-pyramid / weightp / weightb       : 1 / 0 / 0\n",
      "x265 [info]: References / ref-limit  cu / depth  : 1 / off / off\n",
      "x265 [info]: AQ: mode / str / qg-size / cu-tree  : 1 / 0.0 / 32 / 1\n",
      "x265 [info]: Rate Control / qCompress            : CRF-15.0 / 0.60\n",
      "x265 [info]: tools: rd=2 psy-rd=2.00 early-skip rskip mode=1 tmvp fast-intra\n",
      "x265 [info]: tools: strong-intra-smoothing lslices=6 deblock\n",
      "Output #0, avi, to '/n/groups/datta/tim_sainburg/datasets/3D_keypoints/compressed/23-08-14-chronic_recordings/23-02-15-13-33-48-456374/Top.22181547.avi':\n",
      "  Metadata:\n",
      "    software        : Lavf58.76.100\n",
      "    ISFT            : Lavf58.76.100\n",
      "  Stream #0:0: Video: hevc (hvc1 / 0x31637668), gray(progressive), 1280x1024, q=2-31, 60 fps, 60 tbn\n",
      "    Metadata:\n",
      "      encoder         : Lavc58.134.100 libx265\n",
      "    Side data:\n",
      "      cpb: bitrate max/min/avg: 0/0/0 buffer size: 0 vbv_delay: N/A\n",
      "frame=79622 fps=256 q=23.0 Lsize= 1514538kB time=00:22:07.00 bitrate=9349.7kbits/s speed=4.27x    \n",
      "video:1512400kB audio:0kB subtitle:0kB other streams:0kB global headers:0kB muxing overhead: 0.141377%\n",
      "x265 [info]: frame I:    319, Avg QP:20.42  kb/s: 85072.42\n",
      "x265 [info]: frame P:  19747, Avg QP:22.41  kb/s: 30712.39\n",
      "x265 [info]: frame B:  59556, Avg QP:25.67  kb/s: 1834.44 \n",
      "x265 [info]: consecutive B-frames: 0.0% 1.6% 0.0% 98.4% \n",
      "\n",
      "encoded 79622 frames in 310.74s (256.24 fps), 9329.93 kb/s, Avg QP:24.84\n"
     ]
    },
    {
     "name": "stdout",
     "output_type": "stream",
     "text": [
      "converting 23-08-14-chronic_recordings/23-02-15-13-33-48-456374/BackLeft.22181546.avi\n"
     ]
    },
    {
     "name": "stderr",
     "output_type": "stream",
     "text": [
      "ffmpeg version 4.4.2-0ubuntu0.22.04.1 Copyright (c) 2000-2021 the FFmpeg developers\n",
      "  built with gcc 11 (Ubuntu 11.2.0-19ubuntu1)\n",
      "  configuration: --prefix=/usr --extra-version=0ubuntu0.22.04.1 --toolchain=hardened --libdir=/usr/lib/x86_64-linux-gnu --incdir=/usr/include/x86_64-linux-gnu --arch=amd64 --enable-gpl --disable-stripping --enable-gnutls --enable-ladspa --enable-libaom --enable-libass --enable-libbluray --enable-libbs2b --enable-libcaca --enable-libcdio --enable-libcodec2 --enable-libdav1d --enable-libflite --enable-libfontconfig --enable-libfreetype --enable-libfribidi --enable-libgme --enable-libgsm --enable-libjack --enable-libmp3lame --enable-libmysofa --enable-libopenjpeg --enable-libopenmpt --enable-libopus --enable-libpulse --enable-librabbitmq --enable-librubberband --enable-libshine --enable-libsnappy --enable-libsoxr --enable-libspeex --enable-libsrt --enable-libssh --enable-libtheora --enable-libtwolame --enable-libvidstab --enable-libvorbis --enable-libvpx --enable-libwebp --enable-libx265 --enable-libxml2 --enable-libxvid --enable-libzimg --enable-libzmq --enable-libzvbi --enable-lv2 --enable-omx --enable-openal --enable-opencl --enable-opengl --enable-sdl2 --enable-pocketsphinx --enable-librsvg --enable-libmfx --enable-libdc1394 --enable-libdrm --enable-libiec61883 --enable-chromaprint --enable-frei0r --enable-libx264 --enable-shared\n",
      "  libavutil      56. 70.100 / 56. 70.100\n",
      "  libavcodec     58.134.100 / 58.134.100\n",
      "  libavformat    58. 76.100 / 58. 76.100\n",
      "  libavdevice    58. 13.100 / 58. 13.100\n",
      "  libavfilter     7.110.100 /  7.110.100\n",
      "  libswscale      5.  9.100 /  5.  9.100\n",
      "  libswresample   3.  9.100 /  3.  9.100\n",
      "  libpostproc    55.  9.100 / 55.  9.100\n",
      "Input #0, avi, from '/media/dattalab/starling_rec/recordings/23-08-14-chronic_recordings/23-02-15-13-33-48-456374/BackLeft.22181546.avi':\n",
      "  Metadata:\n",
      "    software        : Lavf58.76.100\n",
      "  Duration: 00:22:07.07, start: 0.000000, bitrate: 319313 kb/s\n",
      "  Stream #0:0: Video: ffv1 (FFV1 / 0x31564646), gray, 1280x1024, 319309 kb/s, 60 fps, 60 tbr, 60 tbn, 60 tbc\n",
      "Stream mapping:\n",
      "  Stream #0:0 -> #0:0 (ffv1 (native) -> hevc (libx265))\n",
      "Press [q] to stop, [?] for help\n",
      "x265 [info]: HEVC encoder version 3.5+1-f0c1022b6\n",
      "x265 [info]: build info [Linux][GCC 11.2.0][64 bit] 8bit+10bit+12bit\n",
      "x265 [info]: using cpu capabilities: MMX2 SSE2Fast LZCNT SSSE3 SSE4.2 AVX FMA3 BMI2 AVX2\n",
      "x265 [info]: Unknown profile, Level-4.1 (Main tier)\n",
      "x265 [info]: Thread pool created using 24 threads\n",
      "x265 [info]: Slices                              : 1\n",
      "x265 [info]: frame threads / pool features       : 4 / wpp(32 rows)\n",
      "x265 [info]: Coding QT: max CU size, min CU size : 32 / 16\n",
      "x265 [info]: Residual QT: max TU size, max depth : 32 / 1 inter / 1 intra\n",
      "x265 [info]: ME / range / subpel / merge         : dia / 57 / 0 / 2\n",
      "x265 [info]: Lookahead / bframes / badapt        : 5 / 3 / 0\n",
      "x265 [info]: b-pyramid / weightp / weightb       : 1 / 0 / 0\n",
      "x265 [info]: References / ref-limit  cu / depth  : 1 / off / off\n",
      "x265 [info]: AQ: mode / str / qg-size / cu-tree  : 1 / 0.0 / 32 / 1\n",
      "x265 [info]: Rate Control / qCompress            : CRF-15.0 / 0.60\n",
      "x265 [info]: tools: rd=2 psy-rd=2.00 early-skip rskip mode=1 tmvp fast-intra\n",
      "x265 [info]: tools: strong-intra-smoothing lslices=6 deblock\n",
      "Output #0, avi, to '/n/groups/datta/tim_sainburg/datasets/3D_keypoints/compressed/23-08-14-chronic_recordings/23-02-15-13-33-48-456374/BackLeft.22181546.avi':\n",
      "  Metadata:\n",
      "    software        : Lavf58.76.100\n",
      "    ISFT            : Lavf58.76.100\n",
      "  Stream #0:0: Video: hevc (hvc1 / 0x31637668), gray(progressive), 1280x1024, q=2-31, 60 fps, 60 tbn\n",
      "    Metadata:\n",
      "      encoder         : Lavc58.134.100 libx265\n",
      "    Side data:\n",
      "      cpb: bitrate max/min/avg: 0/0/0 buffer size: 0 vbv_delay: N/A\n",
      "frame=79624 fps=198 q=26.0 Lsize= 1475223kB time=00:22:07.03 bitrate=9106.8kbits/s speed= 3.3x    \n",
      "video:1473060kB audio:0kB subtitle:0kB other streams:0kB global headers:0kB muxing overhead: 0.146847%\n",
      "x265 [info]: frame I:    319, Avg QP:20.54  kb/s: 82605.24\n",
      "x265 [info]: frame P:  19747, Avg QP:22.46  kb/s: 29118.60\n",
      "x265 [info]: frame B:  59558, Avg QP:25.67  kb/s: 2051.36 \n",
      "x265 [info]: consecutive B-frames: 0.0% 1.6% 0.0% 98.4% \n",
      "\n",
      "encoded 79624 frames in 402.49s (197.83 fps), 9086.85 kb/s, Avg QP:24.85\n"
     ]
    },
    {
     "name": "stdout",
     "output_type": "stream",
     "text": [
      "converting 23-08-14-chronic_recordings/23-02-15-13-33-48-456374/FrontLeft.22181612.avi\n"
     ]
    },
    {
     "name": "stderr",
     "output_type": "stream",
     "text": [
      "ffmpeg version 4.4.2-0ubuntu0.22.04.1 Copyright (c) 2000-2021 the FFmpeg developers\n",
      "  built with gcc 11 (Ubuntu 11.2.0-19ubuntu1)\n",
      "  configuration: --prefix=/usr --extra-version=0ubuntu0.22.04.1 --toolchain=hardened --libdir=/usr/lib/x86_64-linux-gnu --incdir=/usr/include/x86_64-linux-gnu --arch=amd64 --enable-gpl --disable-stripping --enable-gnutls --enable-ladspa --enable-libaom --enable-libass --enable-libbluray --enable-libbs2b --enable-libcaca --enable-libcdio --enable-libcodec2 --enable-libdav1d --enable-libflite --enable-libfontconfig --enable-libfreetype --enable-libfribidi --enable-libgme --enable-libgsm --enable-libjack --enable-libmp3lame --enable-libmysofa --enable-libopenjpeg --enable-libopenmpt --enable-libopus --enable-libpulse --enable-librabbitmq --enable-librubberband --enable-libshine --enable-libsnappy --enable-libsoxr --enable-libspeex --enable-libsrt --enable-libssh --enable-libtheora --enable-libtwolame --enable-libvidstab --enable-libvorbis --enable-libvpx --enable-libwebp --enable-libx265 --enable-libxml2 --enable-libxvid --enable-libzimg --enable-libzmq --enable-libzvbi --enable-lv2 --enable-omx --enable-openal --enable-opencl --enable-opengl --enable-sdl2 --enable-pocketsphinx --enable-librsvg --enable-libmfx --enable-libdc1394 --enable-libdrm --enable-libiec61883 --enable-chromaprint --enable-frei0r --enable-libx264 --enable-shared\n",
      "  libavutil      56. 70.100 / 56. 70.100\n",
      "  libavcodec     58.134.100 / 58.134.100\n",
      "  libavformat    58. 76.100 / 58. 76.100\n",
      "  libavdevice    58. 13.100 / 58. 13.100\n",
      "  libavfilter     7.110.100 /  7.110.100\n",
      "  libswscale      5.  9.100 /  5.  9.100\n",
      "  libswresample   3.  9.100 /  3.  9.100\n",
      "  libpostproc    55.  9.100 / 55.  9.100\n",
      "Input #0, avi, from '/media/dattalab/starling_rec/recordings/23-08-14-chronic_recordings/23-02-15-13-33-48-456374/FrontLeft.22181612.avi':\n",
      "  Metadata:\n",
      "    software        : Lavf58.76.100\n",
      "  Duration: 00:22:07.05, start: 0.000000, bitrate: 326274 kb/s\n",
      "  Stream #0:0: Video: ffv1 (FFV1 / 0x31564646), gray, 1280x1024, 326270 kb/s, 60 fps, 60 tbr, 60 tbn, 60 tbc\n",
      "Stream mapping:\n",
      "  Stream #0:0 -> #0:0 (ffv1 (native) -> hevc (libx265))\n",
      "Press [q] to stop, [?] for help\n",
      "x265 [info]: HEVC encoder version 3.5+1-f0c1022b6\n",
      "x265 [info]: build info [Linux][GCC 11.2.0][64 bit] 8bit+10bit+12bit\n",
      "x265 [info]: using cpu capabilities: MMX2 SSE2Fast LZCNT SSSE3 SSE4.2 AVX FMA3 BMI2 AVX2\n",
      "x265 [info]: Unknown profile, Level-4.1 (Main tier)\n",
      "x265 [info]: Thread pool created using 24 threads\n",
      "x265 [info]: Slices                              : 1\n",
      "x265 [info]: frame threads / pool features       : 4 / wpp(32 rows)\n",
      "x265 [info]: Coding QT: max CU size, min CU size : 32 / 16\n",
      "x265 [info]: Residual QT: max TU size, max depth : 32 / 1 inter / 1 intra\n",
      "x265 [info]: ME / range / subpel / merge         : dia / 57 / 0 / 2\n",
      "x265 [info]: Lookahead / bframes / badapt        : 5 / 3 / 0\n",
      "x265 [info]: b-pyramid / weightp / weightb       : 1 / 0 / 0\n",
      "x265 [info]: References / ref-limit  cu / depth  : 1 / off / off\n",
      "x265 [info]: AQ: mode / str / qg-size / cu-tree  : 1 / 0.0 / 32 / 1\n",
      "x265 [info]: Rate Control / qCompress            : CRF-15.0 / 0.60\n",
      "x265 [info]: tools: rd=2 psy-rd=2.00 early-skip rskip mode=1 tmvp fast-intra\n",
      "x265 [info]: tools: strong-intra-smoothing lslices=6 deblock\n",
      "Output #0, avi, to '/n/groups/datta/tim_sainburg/datasets/3D_keypoints/compressed/23-08-14-chronic_recordings/23-02-15-13-33-48-456374/FrontLeft.22181612.avi':\n",
      "  Metadata:\n",
      "    software        : Lavf58.76.100\n",
      "    ISFT            : Lavf58.76.100\n",
      "  Stream #0:0: Video: hevc (hvc1 / 0x31637668), gray(progressive), 1280x1024, q=2-31, 60 fps, 60 tbn\n",
      "    Metadata:\n",
      "      encoder         : Lavc58.134.100 libx265\n",
      "    Side data:\n",
      "      cpb: bitrate max/min/avg: 0/0/0 buffer size: 0 vbv_delay: N/A\n",
      "frame=79229 fps=156 q=26.0 Lsize= 1800719kB time=00:22:00.45 bitrate=11171.6kbits/s speed= 2.6x    \n",
      "video:1798719kB audio:0kB subtitle:0kB other streams:0kB global headers:0kB muxing overhead: 0.111208%\n",
      "x265 [info]: frame I:    317, Avg QP:20.51  kb/s: 89394.46\n",
      "x265 [info]: frame P:  19649, Avg QP:22.48  kb/s: 33278.59\n",
      "x265 [info]: frame B:  59263, Avg QP:25.67  kb/s: 3397.96 \n",
      "x265 [info]: consecutive B-frames: 0.0% 1.6% 0.0% 98.4% \n",
      "\n",
      "encoded 79229 frames in 507.38s (156.15 fps), 11152.51 kb/s, Avg QP:24.86\n",
      "Exiting normally, received signal 2.\n"
     ]
    },
    {
     "ename": "KeyboardInterrupt",
     "evalue": "",
     "output_type": "error",
     "traceback": [
      "\u001b[0;31m---------------------------------------------------------------------------\u001b[0m",
      "\u001b[0;31mKeyboardInterrupt\u001b[0m                         Traceback (most recent call last)",
      "Cell \u001b[0;32mIn[32], line 42\u001b[0m\n\u001b[1;32m     33\u001b[0m     ffmpeg_command \u001b[38;5;241m=\u001b[39m ffmpeg_command\u001b[38;5;241m.\u001b[39mvideo\u001b[38;5;241m.\u001b[39mhflip()\n\u001b[1;32m     34\u001b[0m ffmpeg_command \u001b[38;5;241m=\u001b[39m (\n\u001b[1;32m     35\u001b[0m     ffmpeg_command\u001b[38;5;241m.\u001b[39moutput(\n\u001b[1;32m     36\u001b[0m         video_out\u001b[38;5;241m.\u001b[39mas_posix(),\n\u001b[0;32m   (...)\u001b[0m\n\u001b[1;32m     40\u001b[0m         preset\u001b[38;5;241m=\u001b[39m\u001b[38;5;124m\"\u001b[39m\u001b[38;5;124multrafast\u001b[39m\u001b[38;5;124m\"\u001b[39m)\n\u001b[1;32m     41\u001b[0m )\n\u001b[0;32m---> 42\u001b[0m out, _ \u001b[38;5;241m=\u001b[39m \u001b[43mffmpeg_command\u001b[49m\u001b[38;5;241;43m.\u001b[39;49m\u001b[43mrun\u001b[49m\u001b[43m(\u001b[49m\u001b[43m)\u001b[49m\n\u001b[1;32m     45\u001b[0m \u001b[38;5;66;03m# if out is successful \u001b[39;00m\n\u001b[1;32m     46\u001b[0m \u001b[38;5;28;01mif\u001b[39;00m delete_local_video:\n",
      "File \u001b[0;32m~/anaconda3/envs/flir_acq/lib/python3.10/site-packages/ffmpeg/_run.py:322\u001b[0m, in \u001b[0;36mrun\u001b[0;34m(stream_spec, cmd, capture_stdout, capture_stderr, input, quiet, overwrite_output)\u001b[0m\n\u001b[1;32m    299\u001b[0m \u001b[38;5;124;03m\"\"\"Invoke ffmpeg for the supplied node graph.\u001b[39;00m\n\u001b[1;32m    300\u001b[0m \n\u001b[1;32m    301\u001b[0m \u001b[38;5;124;03mArgs:\u001b[39;00m\n\u001b[0;32m   (...)\u001b[0m\n\u001b[1;32m    311\u001b[0m \u001b[38;5;124;03mReturns: (out, err) tuple containing captured stdout and stderr data.\u001b[39;00m\n\u001b[1;32m    312\u001b[0m \u001b[38;5;124;03m\"\"\"\u001b[39;00m\n\u001b[1;32m    313\u001b[0m process \u001b[38;5;241m=\u001b[39m run_async(\n\u001b[1;32m    314\u001b[0m     stream_spec,\n\u001b[1;32m    315\u001b[0m     cmd,\n\u001b[0;32m   (...)\u001b[0m\n\u001b[1;32m    320\u001b[0m     overwrite_output\u001b[38;5;241m=\u001b[39moverwrite_output,\n\u001b[1;32m    321\u001b[0m )\n\u001b[0;32m--> 322\u001b[0m out, err \u001b[38;5;241m=\u001b[39m \u001b[43mprocess\u001b[49m\u001b[38;5;241;43m.\u001b[39;49m\u001b[43mcommunicate\u001b[49m\u001b[43m(\u001b[49m\u001b[38;5;28;43minput\u001b[39;49m\u001b[43m)\u001b[49m\n\u001b[1;32m    323\u001b[0m retcode \u001b[38;5;241m=\u001b[39m process\u001b[38;5;241m.\u001b[39mpoll()\n\u001b[1;32m    324\u001b[0m \u001b[38;5;28;01mif\u001b[39;00m retcode:\n",
      "File \u001b[0;32m~/anaconda3/envs/flir_acq/lib/python3.10/subprocess.py:1146\u001b[0m, in \u001b[0;36mPopen.communicate\u001b[0;34m(self, input, timeout)\u001b[0m\n\u001b[1;32m   1144\u001b[0m         stderr \u001b[38;5;241m=\u001b[39m \u001b[38;5;28mself\u001b[39m\u001b[38;5;241m.\u001b[39mstderr\u001b[38;5;241m.\u001b[39mread()\n\u001b[1;32m   1145\u001b[0m         \u001b[38;5;28mself\u001b[39m\u001b[38;5;241m.\u001b[39mstderr\u001b[38;5;241m.\u001b[39mclose()\n\u001b[0;32m-> 1146\u001b[0m     \u001b[38;5;28;43mself\u001b[39;49m\u001b[38;5;241;43m.\u001b[39;49m\u001b[43mwait\u001b[49m\u001b[43m(\u001b[49m\u001b[43m)\u001b[49m\n\u001b[1;32m   1147\u001b[0m \u001b[38;5;28;01melse\u001b[39;00m:\n\u001b[1;32m   1148\u001b[0m     \u001b[38;5;28;01mif\u001b[39;00m timeout \u001b[38;5;129;01mis\u001b[39;00m \u001b[38;5;129;01mnot\u001b[39;00m \u001b[38;5;28;01mNone\u001b[39;00m:\n",
      "File \u001b[0;32m~/anaconda3/envs/flir_acq/lib/python3.10/subprocess.py:1209\u001b[0m, in \u001b[0;36mPopen.wait\u001b[0;34m(self, timeout)\u001b[0m\n\u001b[1;32m   1207\u001b[0m     endtime \u001b[38;5;241m=\u001b[39m _time() \u001b[38;5;241m+\u001b[39m timeout\n\u001b[1;32m   1208\u001b[0m \u001b[38;5;28;01mtry\u001b[39;00m:\n\u001b[0;32m-> 1209\u001b[0m     \u001b[38;5;28;01mreturn\u001b[39;00m \u001b[38;5;28;43mself\u001b[39;49m\u001b[38;5;241;43m.\u001b[39;49m\u001b[43m_wait\u001b[49m\u001b[43m(\u001b[49m\u001b[43mtimeout\u001b[49m\u001b[38;5;241;43m=\u001b[39;49m\u001b[43mtimeout\u001b[49m\u001b[43m)\u001b[49m\n\u001b[1;32m   1210\u001b[0m \u001b[38;5;28;01mexcept\u001b[39;00m \u001b[38;5;167;01mKeyboardInterrupt\u001b[39;00m:\n\u001b[1;32m   1211\u001b[0m     \u001b[38;5;66;03m# https://bugs.python.org/issue25942\u001b[39;00m\n\u001b[1;32m   1212\u001b[0m     \u001b[38;5;66;03m# The first keyboard interrupt waits briefly for the child to\u001b[39;00m\n\u001b[1;32m   1213\u001b[0m     \u001b[38;5;66;03m# exit under the common assumption that it also received the ^C\u001b[39;00m\n\u001b[1;32m   1214\u001b[0m     \u001b[38;5;66;03m# generated SIGINT and will exit rapidly.\u001b[39;00m\n\u001b[1;32m   1215\u001b[0m     \u001b[38;5;28;01mif\u001b[39;00m timeout \u001b[38;5;129;01mis\u001b[39;00m \u001b[38;5;129;01mnot\u001b[39;00m \u001b[38;5;28;01mNone\u001b[39;00m:\n",
      "File \u001b[0;32m~/anaconda3/envs/flir_acq/lib/python3.10/subprocess.py:1943\u001b[0m, in \u001b[0;36mPopen._wait\u001b[0;34m(self, timeout)\u001b[0m\n\u001b[1;32m   1941\u001b[0m \u001b[38;5;28;01mif\u001b[39;00m \u001b[38;5;28mself\u001b[39m\u001b[38;5;241m.\u001b[39mreturncode \u001b[38;5;129;01mis\u001b[39;00m \u001b[38;5;129;01mnot\u001b[39;00m \u001b[38;5;28;01mNone\u001b[39;00m:\n\u001b[1;32m   1942\u001b[0m     \u001b[38;5;28;01mbreak\u001b[39;00m  \u001b[38;5;66;03m# Another thread waited.\u001b[39;00m\n\u001b[0;32m-> 1943\u001b[0m (pid, sts) \u001b[38;5;241m=\u001b[39m \u001b[38;5;28;43mself\u001b[39;49m\u001b[38;5;241;43m.\u001b[39;49m\u001b[43m_try_wait\u001b[49m\u001b[43m(\u001b[49m\u001b[38;5;241;43m0\u001b[39;49m\u001b[43m)\u001b[49m\n\u001b[1;32m   1944\u001b[0m \u001b[38;5;66;03m# Check the pid and loop as waitpid has been known to\u001b[39;00m\n\u001b[1;32m   1945\u001b[0m \u001b[38;5;66;03m# return 0 even without WNOHANG in odd situations.\u001b[39;00m\n\u001b[1;32m   1946\u001b[0m \u001b[38;5;66;03m# http://bugs.python.org/issue14396.\u001b[39;00m\n\u001b[1;32m   1947\u001b[0m \u001b[38;5;28;01mif\u001b[39;00m pid \u001b[38;5;241m==\u001b[39m \u001b[38;5;28mself\u001b[39m\u001b[38;5;241m.\u001b[39mpid:\n",
      "File \u001b[0;32m~/anaconda3/envs/flir_acq/lib/python3.10/subprocess.py:1901\u001b[0m, in \u001b[0;36mPopen._try_wait\u001b[0;34m(self, wait_flags)\u001b[0m\n\u001b[1;32m   1899\u001b[0m \u001b[38;5;124;03m\"\"\"All callers to this function MUST hold self._waitpid_lock.\"\"\"\u001b[39;00m\n\u001b[1;32m   1900\u001b[0m \u001b[38;5;28;01mtry\u001b[39;00m:\n\u001b[0;32m-> 1901\u001b[0m     (pid, sts) \u001b[38;5;241m=\u001b[39m \u001b[43mos\u001b[49m\u001b[38;5;241;43m.\u001b[39;49m\u001b[43mwaitpid\u001b[49m\u001b[43m(\u001b[49m\u001b[38;5;28;43mself\u001b[39;49m\u001b[38;5;241;43m.\u001b[39;49m\u001b[43mpid\u001b[49m\u001b[43m,\u001b[49m\u001b[43m \u001b[49m\u001b[43mwait_flags\u001b[49m\u001b[43m)\u001b[49m\n\u001b[1;32m   1902\u001b[0m \u001b[38;5;28;01mexcept\u001b[39;00m \u001b[38;5;167;01mChildProcessError\u001b[39;00m:\n\u001b[1;32m   1903\u001b[0m     \u001b[38;5;66;03m# This happens if SIGCLD is set to be ignored or waiting\u001b[39;00m\n\u001b[1;32m   1904\u001b[0m     \u001b[38;5;66;03m# for child processes has otherwise been disabled for our\u001b[39;00m\n\u001b[1;32m   1905\u001b[0m     \u001b[38;5;66;03m# process.  This child is dead, we can't get the status.\u001b[39;00m\n\u001b[1;32m   1906\u001b[0m     pid \u001b[38;5;241m=\u001b[39m \u001b[38;5;28mself\u001b[39m\u001b[38;5;241m.\u001b[39mpid\n",
      "\u001b[0;31mKeyboardInterrupt\u001b[0m: "
     ]
    }
   ],
   "source": [
    "for video in tqdm(videos_to_convert):\n",
    "    try:\n",
    "        # get the name to save for the output folder\n",
    "        number_of_parents_to_base = np.where([i == video_folder for i in list(video.parents)])[0][0]\n",
    "        sub_folders = video.parts[len(video.parts)-1-number_of_parents_to_base:-1]\n",
    "        video_out = output_folder\n",
    "        for i in sub_folders:\n",
    "            video_out = video_out / i\n",
    "        video_out = video_out / video.name\n",
    "\n",
    "        ensure_dir(video_out)\n",
    "\n",
    "        if video_out.exists():\n",
    "            print('Video already exists, skipping \\n\\t {}'.format('/'.join(video.parts[-3:])))\n",
    "            \n",
    "            if delete_local_video:\n",
    "                os.remove(video)\n",
    "            \n",
    "            continue\n",
    "\n",
    "        print('converting {}'.format('/'.join(video.parts[-3:])))\n",
    "        #continue\n",
    "        # https://www.programcreek.com/python/example/117479/ffmpeg.output\n",
    "\n",
    "        flip_video = video.stem in cameras_to_mirror\n",
    "\n",
    "        ffmpeg_command = (\n",
    "            ffmpeg\n",
    "            .input(video.as_posix())\n",
    "\n",
    "        )\n",
    "        if flip_video:\n",
    "            ffmpeg_command = ffmpeg_command.video.hflip()\n",
    "        ffmpeg_command = (\n",
    "            ffmpeg_command.output(\n",
    "                video_out.as_posix(),\n",
    "                vcodec = \"libx265\", \n",
    "                crf = crf, \n",
    "                vtag=\"hvc1\", \n",
    "                preset=\"ultrafast\"\n",
    "            )\n",
    "        )\n",
    "        out, _ = ffmpeg_command.run()\n",
    "        \n",
    "        \n",
    "        # if out is successful \n",
    "        if delete_local_video:\n",
    "            os.remove(video)\n",
    "        \n",
    "        #out, _ = (\n",
    "        #    ffmpeg\n",
    "        #    .input(video.as_posix())\n",
    "        #    .output(video_out.as_posix(), vcodec = \"libx265\", crf = crf, vtag=\"hvc1\", preset=\"ultrafast\")\n",
    "        #    .run()\n",
    "        #)\n",
    "    \n",
    "        \n",
    "    except KeyError:\n",
    "        # delete bad video file\n",
    "        if video_out.exists():\n",
    "            os.remove(video_out)\n",
    "        break\n",
    "        \n",
    "    except Exception:\n",
    "        # delete bad video file\n",
    "        if video_out.exists():\n",
    "            os.remove(video_out)\n",
    "        \n",
    "        clear_output(wait=True)\n",
    "        print('BACKUP FAILED {}'.format(video))\n",
    "        continue"
   ]
  },
  {
   "cell_type": "code",
   "execution_count": null,
   "id": "65d6cb52",
   "metadata": {},
   "outputs": [],
   "source": []
  },
  {
   "cell_type": "code",
   "execution_count": null,
   "id": "29c12a98",
   "metadata": {},
   "outputs": [],
   "source": []
  }
 ],
 "metadata": {
  "kernelspec": {
   "display_name": "flir_acq",
   "language": "python",
   "name": "flir_acq"
  },
  "language_info": {
   "codemirror_mode": {
    "name": "ipython",
    "version": 3
   },
   "file_extension": ".py",
   "mimetype": "text/x-python",
   "name": "python",
   "nbconvert_exporter": "python",
   "pygments_lexer": "ipython3",
   "version": "3.10.8"
  }
 },
 "nbformat": 4,
 "nbformat_minor": 5
}
